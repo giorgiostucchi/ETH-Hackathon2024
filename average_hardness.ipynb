{
 "cells": [
  {
   "cell_type": "code",
   "execution_count": 9,
   "metadata": {},
   "outputs": [],
   "source": [
    "using Bloqade\n",
    "using Random\n",
    "using PythonCall\n",
    "using GenericTensorNetworks\n",
    "using Statistics\n",
    "plt = pyimport(\"matplotlib.pyplot\");"
   ]
  },
  {
   "cell_type": "code",
   "execution_count": 37,
   "metadata": {},
   "outputs": [
    {
     "name": "stdout",
     "output_type": "stream",
     "text": [
      "0.6716865561456615    0.23833827361446\n",
      "3.647361111111111    1.6222037846502482\n",
      "2.122910052910053    1.045202394230653\n",
      "1.9597222222222224    0.7378910202236453\n",
      "0.4945139549706113    0.10697457669040883\n"
     ]
    }
   ],
   "source": [
    "sqrtN = 4\n",
    "\n",
    "block_radius_list = 4*[1.68, 2.11, 2.51, 2.91, 3.08]\n",
    "\n",
    "for block_radius in block_radius_list \n",
    "    hardness_list = []\n",
    "    for i in 1:30\n",
    "        Random.seed!(i)\n",
    "\n",
    "        atoms = generate_sites(SquareLattice(), sqrtN, sqrtN; scale = 4) |> random_dropout(0.2)\n",
    "\n",
    "        \n",
    "        Bloqade.plot(atoms, blockade_radius=block_radius)\n",
    "\n",
    "        graph = BloqadeMIS.unit_disk_graph(atoms, block_radius)\n",
    "        mis_size_and_counting = GenericTensorNetworks.solve(IndependentSet(graph), CountingMax())[]\n",
    "\n",
    "        MIS = mis_size_and_counting.n \n",
    "        D_MIS = mis_size_and_counting.c \n",
    "        D_MIS_1 = GenericTensorNetworks.solve(IndependentSet(graph), CountingMax(2))[].coeffs[1]\n",
    "        hardness = D_MIS_1 / (MIS * D_MIS)\n",
    "\n",
    "        push!(hardness_list, hardness)\n",
    "    end\n",
    "    println(mean(hardness_list), \"    \", std(hardness_list))\n",
    "\n",
    "end"
   ]
  },
  {
   "cell_type": "code",
   "execution_count": 39,
   "metadata": {},
   "outputs": [
    {
     "name": "stdout",
     "output_type": "stream",
     "text": [
      "1.979490242575396    0.5981530657133629\n",
      "5.3534436532190135    4.445266955077289\n",
      "3.7610541041979477    3.822983178209999\n",
      "0.9519563053247251    0.373590489120983\n",
      "5.521019607843137    2.4724792288909674\n"
     ]
    }
   ],
   "source": [
    "sqrtN = 5\n",
    "\n",
    "block_radius_list = 4*[1.68, 2.11, 2.51, 2.91, 3.08]\n",
    "\n",
    "for block_radius in block_radius_list \n",
    "    hardness_list = []\n",
    "    for i in 1:50\n",
    "        Random.seed!(i)\n",
    "\n",
    "        atoms = generate_sites(SquareLattice(), sqrtN, sqrtN; scale = 4) |> random_dropout(0.2)\n",
    "\n",
    "        \n",
    "        Bloqade.plot(atoms, blockade_radius=block_radius)\n",
    "\n",
    "        graph = BloqadeMIS.unit_disk_graph(atoms, block_radius)\n",
    "        mis_size_and_counting = GenericTensorNetworks.solve(IndependentSet(graph), CountingMax())[]\n",
    "\n",
    "        MIS = mis_size_and_counting.n \n",
    "        D_MIS = mis_size_and_counting.c \n",
    "        D_MIS_1 = GenericTensorNetworks.solve(IndependentSet(graph), CountingMax(2))[].coeffs[1]\n",
    "        hardness = D_MIS_1 / (MIS * D_MIS)\n",
    "\n",
    "        push!(hardness_list, hardness)\n",
    "    end\n",
    "    println(mean(hardness_list), \"    \", std(hardness_list))\n",
    "\n",
    "end"
   ]
  },
  {
   "cell_type": "code",
   "execution_count": 40,
   "metadata": {},
   "outputs": [
    {
     "name": "stdout",
     "output_type": "stream",
     "text": [
      "1.1409785021599463    0.5815592164394788\n",
      "5.490132836244443    3.367244602646872\n",
      "6.687935636655601    3.812659362750205\n",
      "0.3287609054727463    0.048409718605070255\n",
      "0.6083227743977212    0.11303958862020547\n"
     ]
    }
   ],
   "source": [
    "sqrtN = 6\n",
    "\n",
    "block_radius_list = 4*[1.68, 2.11, 2.51, 2.91, 3.08]\n",
    "\n",
    "for block_radius in block_radius_list \n",
    "    hardness_list = []\n",
    "    for i in 1:50\n",
    "        Random.seed!(i)\n",
    "\n",
    "        atoms = generate_sites(SquareLattice(), sqrtN, sqrtN; scale = 4) |> random_dropout(0.2)\n",
    "\n",
    "        \n",
    "        Bloqade.plot(atoms, blockade_radius=block_radius)\n",
    "\n",
    "        graph = BloqadeMIS.unit_disk_graph(atoms, block_radius)\n",
    "        mis_size_and_counting = GenericTensorNetworks.solve(IndependentSet(graph), CountingMax())[]\n",
    "\n",
    "        MIS = mis_size_and_counting.n \n",
    "        D_MIS = mis_size_and_counting.c \n",
    "        D_MIS_1 = GenericTensorNetworks.solve(IndependentSet(graph), CountingMax(2))[].coeffs[1]\n",
    "        hardness = D_MIS_1 / (MIS * D_MIS)\n",
    "\n",
    "        push!(hardness_list, hardness)\n",
    "    end\n",
    "    println(mean(hardness_list), \"    \", std(hardness_list))\n",
    "\n",
    "end"
   ]
  },
  {
   "cell_type": "code",
   "execution_count": 41,
   "metadata": {},
   "outputs": [
    {
     "name": "stdout",
     "output_type": "stream",
     "text": [
      "2.3298985386994193    0.9237878024843268\n",
      "3.8602919740198236    2.3086442175147335\n",
      "7.432952134842924    7.247946197526132\n",
      "3.704096026531117    3.440958671076486\n",
      "9.468034506988783    3.661250610958622\n"
     ]
    }
   ],
   "source": [
    "sqrtN = 7\n",
    "\n",
    "block_radius_list = 4*[1.68, 2.11, 2.51, 2.91, 3.08]\n",
    "\n",
    "for block_radius in block_radius_list \n",
    "    hardness_list = []\n",
    "    for i in 1:50\n",
    "        Random.seed!(i)\n",
    "\n",
    "        atoms = generate_sites(SquareLattice(), sqrtN, sqrtN; scale = 4) |> random_dropout(0.2)\n",
    "\n",
    "        \n",
    "        Bloqade.plot(atoms, blockade_radius=block_radius)\n",
    "\n",
    "        graph = BloqadeMIS.unit_disk_graph(atoms, block_radius)\n",
    "        mis_size_and_counting = GenericTensorNetworks.solve(IndependentSet(graph), CountingMax())[]\n",
    "\n",
    "        MIS = mis_size_and_counting.n \n",
    "        D_MIS = mis_size_and_counting.c \n",
    "        D_MIS_1 = GenericTensorNetworks.solve(IndependentSet(graph), CountingMax(2))[].coeffs[1]\n",
    "        hardness = D_MIS_1 / (MIS * D_MIS)\n",
    "\n",
    "        push!(hardness_list, hardness)\n",
    "    end\n",
    "    println(mean(hardness_list), \"    \", std(hardness_list))\n",
    "\n",
    "end"
   ]
  },
  {
   "cell_type": "code",
   "execution_count": null,
   "metadata": {},
   "outputs": [],
   "source": []
  }
 ],
 "metadata": {
  "kernelspec": {
   "display_name": "Julia 1.10.3",
   "language": "julia",
   "name": "julia-1.10"
  },
  "language_info": {
   "file_extension": ".jl",
   "mimetype": "application/julia",
   "name": "julia",
   "version": "1.10.3"
  }
 },
 "nbformat": 4,
 "nbformat_minor": 2
}
